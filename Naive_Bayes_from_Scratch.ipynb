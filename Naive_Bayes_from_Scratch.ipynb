{
 "cells": [
  {
   "cell_type": "code",
   "execution_count": 4,
   "metadata": {},
   "outputs": [],
   "source": [
    "import numpy as np\n",
    "import pandas as pd\n",
    "import random\n",
    "from collections import Counter\n",
    "from sklearn.model_selection import train_test_split"
   ]
  },
  {
   "cell_type": "code",
   "execution_count": 5,
   "metadata": {},
   "outputs": [],
   "source": [
    "def _generate_dummy_dataset():\n",
    "    #to generate categorical dummy dataset\n",
    "    df=pd.DataFrame()\n",
    "    feature_1=[\"a\",\"b\",\"c\"]\n",
    "    feature_2=[\"d\",\"e\"]\n",
    "    feature_3=[\"x\",\"z\"]\n",
    "    target=[\"t1\",\"t2\",\"t3\"]\n",
    "    num_of_rows=200\n",
    "    for i in range(num_of_rows):\n",
    "        df.loc[i,\"feature_1\"]=random.choice(feature_1)\n",
    "        df.loc[i,\"feature_2\"]=random.choice(feature_2)\n",
    "        df.loc[i,\"feature_3\"]=random.choice(feature_3)\n",
    "        df.loc[i,\"target\"]=random.choice(target)\n",
    "    \n",
    "    return df\n",
    "        "
   ]
  },
  {
   "cell_type": "code",
   "execution_count": 46,
   "metadata": {},
   "outputs": [],
   "source": [
    "#custom fit for Naive Bayes\n",
    "#X_train, Y_train are of the form np.array()\n",
    "def fit(X_train,Y_train):\n",
    "    result_d={}\n",
    "    result_d=Counter(Y_train)\n",
    "    result_d['total_data']=len(Y_train)\n",
    "    num_features=X_train.shape[1]\n",
    "    for class_val in result_d:\n",
    "        if(class_val=='total_data'):\n",
    "            continue\n",
    "        current_X_train=X_train[Y_train==class_val]\n",
    "        result_d[class_val]={}\n",
    "        for i in range(1,num_features+1):\n",
    "            result_d[class_val][i]=Counter(current_X_train[:,i-1])    \n",
    "    return result_d"
   ]
  },
  {
   "cell_type": "code",
   "execution_count": 8,
   "metadata": {},
   "outputs": [],
   "source": [
    "df_=_generate_dummy_dataset()\n"
   ]
  },
  {
   "cell_type": "code",
   "execution_count": 10,
   "metadata": {},
   "outputs": [
    {
     "data": {
      "text/html": [
       "<div>\n",
       "<style scoped>\n",
       "    .dataframe tbody tr th:only-of-type {\n",
       "        vertical-align: middle;\n",
       "    }\n",
       "\n",
       "    .dataframe tbody tr th {\n",
       "        vertical-align: top;\n",
       "    }\n",
       "\n",
       "    .dataframe thead th {\n",
       "        text-align: right;\n",
       "    }\n",
       "</style>\n",
       "<table border=\"1\" class=\"dataframe\">\n",
       "  <thead>\n",
       "    <tr style=\"text-align: right;\">\n",
       "      <th></th>\n",
       "      <th>feature_1</th>\n",
       "      <th>feature_2</th>\n",
       "      <th>feature_3</th>\n",
       "      <th>target</th>\n",
       "    </tr>\n",
       "  </thead>\n",
       "  <tbody>\n",
       "    <tr>\n",
       "      <th>0</th>\n",
       "      <td>a</td>\n",
       "      <td>d</td>\n",
       "      <td>x</td>\n",
       "      <td>t1</td>\n",
       "    </tr>\n",
       "    <tr>\n",
       "      <th>1</th>\n",
       "      <td>a</td>\n",
       "      <td>d</td>\n",
       "      <td>x</td>\n",
       "      <td>t3</td>\n",
       "    </tr>\n",
       "    <tr>\n",
       "      <th>2</th>\n",
       "      <td>b</td>\n",
       "      <td>d</td>\n",
       "      <td>z</td>\n",
       "      <td>t3</td>\n",
       "    </tr>\n",
       "    <tr>\n",
       "      <th>3</th>\n",
       "      <td>c</td>\n",
       "      <td>d</td>\n",
       "      <td>z</td>\n",
       "      <td>t3</td>\n",
       "    </tr>\n",
       "    <tr>\n",
       "      <th>4</th>\n",
       "      <td>b</td>\n",
       "      <td>e</td>\n",
       "      <td>x</td>\n",
       "      <td>t3</td>\n",
       "    </tr>\n",
       "    <tr>\n",
       "      <th>...</th>\n",
       "      <td>...</td>\n",
       "      <td>...</td>\n",
       "      <td>...</td>\n",
       "      <td>...</td>\n",
       "    </tr>\n",
       "    <tr>\n",
       "      <th>195</th>\n",
       "      <td>b</td>\n",
       "      <td>e</td>\n",
       "      <td>x</td>\n",
       "      <td>t1</td>\n",
       "    </tr>\n",
       "    <tr>\n",
       "      <th>196</th>\n",
       "      <td>a</td>\n",
       "      <td>e</td>\n",
       "      <td>z</td>\n",
       "      <td>t3</td>\n",
       "    </tr>\n",
       "    <tr>\n",
       "      <th>197</th>\n",
       "      <td>b</td>\n",
       "      <td>e</td>\n",
       "      <td>z</td>\n",
       "      <td>t3</td>\n",
       "    </tr>\n",
       "    <tr>\n",
       "      <th>198</th>\n",
       "      <td>a</td>\n",
       "      <td>e</td>\n",
       "      <td>z</td>\n",
       "      <td>t3</td>\n",
       "    </tr>\n",
       "    <tr>\n",
       "      <th>199</th>\n",
       "      <td>c</td>\n",
       "      <td>d</td>\n",
       "      <td>z</td>\n",
       "      <td>t3</td>\n",
       "    </tr>\n",
       "  </tbody>\n",
       "</table>\n",
       "<p>200 rows × 4 columns</p>\n",
       "</div>"
      ],
      "text/plain": [
       "    feature_1 feature_2 feature_3 target\n",
       "0           a         d         x     t1\n",
       "1           a         d         x     t3\n",
       "2           b         d         z     t3\n",
       "3           c         d         z     t3\n",
       "4           b         e         x     t3\n",
       "..        ...       ...       ...    ...\n",
       "195         b         e         x     t1\n",
       "196         a         e         z     t3\n",
       "197         b         e         z     t3\n",
       "198         a         e         z     t3\n",
       "199         c         d         z     t3\n",
       "\n",
       "[200 rows x 4 columns]"
      ]
     },
     "execution_count": 10,
     "metadata": {},
     "output_type": "execute_result"
    }
   ],
   "source": [
    "df_"
   ]
  },
  {
   "cell_type": "code",
   "execution_count": 35,
   "metadata": {},
   "outputs": [],
   "source": [
    "X=df_.iloc[:,:-1]\n",
    "Y=df_.iloc[:,-1]\n",
    "from sklearn import model_selection\n",
    "X_train_, X_test_, Y_train_, Y_test_=model_selection.train_test_split(X, Y, test_size=0.20, random_state=3)"
   ]
  },
  {
   "cell_type": "code",
   "execution_count": 36,
   "metadata": {},
   "outputs": [],
   "source": [
    "X_train=X_train_.values\n",
    "Y_train=Y_train_.values"
   ]
  },
  {
   "cell_type": "code",
   "execution_count": 39,
   "metadata": {},
   "outputs": [],
   "source": [
    "result_d={}\n",
    "result_d=Counter(Y_train)\n",
    "result_d['total_data']=len(Y_train)\n",
    "num_features=X_train.shape[1]\n",
    "for class_val in result_d:\n",
    "    if(class_val=='total_data'):\n",
    "        continue\n",
    "    current_X_train=X_train[Y_train==class_val]\n",
    "    result_d[class_val]={}\n",
    "    for i in range(1,num_features+1):\n",
    "        result_d[class_val][i]=Counter(current_X_train[:,i-1])    \n"
   ]
  },
  {
   "cell_type": "code",
   "execution_count": 40,
   "metadata": {},
   "outputs": [
    {
     "data": {
      "text/plain": [
       "Counter({'t1': {1: Counter({'a': 22, 'c': 22, 'b': 22}),\n",
       "          2: Counter({'d': 27, 'e': 39}),\n",
       "          3: Counter({'z': 32, 'x': 34})},\n",
       "         't3': {1: Counter({'a': 20, 'c': 16, 'b': 18}),\n",
       "          2: Counter({'d': 32, 'e': 22}),\n",
       "          3: Counter({'z': 33, 'x': 21})},\n",
       "         't2': {1: Counter({'b': 20, 'a': 14, 'c': 6}),\n",
       "          2: Counter({'d': 24, 'e': 16}),\n",
       "          3: Counter({'x': 24, 'z': 16})},\n",
       "         'total_data': 160})"
      ]
     },
     "execution_count": 40,
     "metadata": {},
     "output_type": "execute_result"
    }
   ],
   "source": [
    "result_d"
   ]
  },
  {
   "cell_type": "code",
   "execution_count": 47,
   "metadata": {},
   "outputs": [],
   "source": [
    "result_d_=fit(X_train, Y_train)"
   ]
  },
  {
   "cell_type": "code",
   "execution_count": 48,
   "metadata": {},
   "outputs": [
    {
     "data": {
      "text/plain": [
       "Counter({'t1': {1: Counter({'a': 22, 'c': 22, 'b': 22}),\n",
       "          2: Counter({'d': 27, 'e': 39}),\n",
       "          3: Counter({'z': 32, 'x': 34})},\n",
       "         't3': {1: Counter({'a': 20, 'c': 16, 'b': 18}),\n",
       "          2: Counter({'d': 32, 'e': 22}),\n",
       "          3: Counter({'z': 33, 'x': 21})},\n",
       "         't2': {1: Counter({'b': 20, 'a': 14, 'c': 6}),\n",
       "          2: Counter({'d': 24, 'e': 16}),\n",
       "          3: Counter({'x': 24, 'z': 16})},\n",
       "         'total_data': 160})"
      ]
     },
     "execution_count": 48,
     "metadata": {},
     "output_type": "execute_result"
    }
   ],
   "source": [
    "result_d_"
   ]
  },
  {
   "cell_type": "code",
   "execution_count": null,
   "metadata": {},
   "outputs": [],
   "source": []
  }
 ],
 "metadata": {
  "kernelspec": {
   "display_name": "Python 3",
   "language": "python",
   "name": "python3"
  },
  "language_info": {
   "codemirror_mode": {
    "name": "ipython",
    "version": 3
   },
   "file_extension": ".py",
   "mimetype": "text/x-python",
   "name": "python",
   "nbconvert_exporter": "python",
   "pygments_lexer": "ipython3",
   "version": "3.6.10"
  }
 },
 "nbformat": 4,
 "nbformat_minor": 4
}
